{
 "cells": [
  {
   "cell_type": "markdown",
   "id": "25b94912",
   "metadata": {},
   "source": [
    "# Simple Linear Regression. Minimum example"
   ]
  },
  {
   "cell_type": "markdown",
   "id": "97fa48ab",
   "metadata": {},
   "source": [
    "## Import the relevant libraries"
   ]
  },
  {
   "cell_type": "code",
   "execution_count": 1,
   "id": "dfe9631f",
   "metadata": {
    "ExecuteTime": {
     "end_time": "2022-01-30T22:11:41.283964Z",
     "start_time": "2022-01-30T22:11:40.298789Z"
    }
   },
   "outputs": [],
   "source": [
    "import numpy as np\n",
    "import matplotlib.pyplot as plt\n",
    "from mpl_toolkits.mplot3d import Axes3D"
   ]
  },
  {
   "cell_type": "markdown",
   "id": "cc2ff2f0",
   "metadata": {},
   "source": [
    "## Generate random input data to train"
   ]
  },
  {
   "cell_type": "code",
   "execution_count": 3,
   "id": "5d184dd5",
   "metadata": {
    "ExecuteTime": {
     "end_time": "2022-01-30T22:15:20.227122Z",
     "start_time": "2022-01-30T22:15:20.222762Z"
    }
   },
   "outputs": [
    {
     "name": "stdout",
     "output_type": "stream",
     "text": [
      "(1000, 2)\n"
     ]
    }
   ],
   "source": [
    "observations = 1000\n",
    "\n",
    "# Creating the variables\n",
    "xs=np.random.uniform(low=-10, high=10, size=(observations,1))\n",
    "zs=np.random.uniform(low=-10, high=10, size=(observations,1))\n",
    "\n",
    "inputs = np.column_stack((xs, zs))\n",
    "print(inputs.shape)"
   ]
  },
  {
   "cell_type": "markdown",
   "id": "e0d082a4",
   "metadata": {},
   "source": [
    "## Create the targets we will aim at"
   ]
  },
  {
   "cell_type": "markdown",
   "id": "c9313b11",
   "metadata": {},
   "source": [
    "$\\text{targets} = f(x, z) = 2\\times x - 3 \\times z + 5 + \\text{noise}$ "
   ]
  },
  {
   "cell_type": "code",
   "execution_count": 5,
   "id": "e91c7230",
   "metadata": {
    "ExecuteTime": {
     "end_time": "2022-01-30T22:29:53.259618Z",
     "start_time": "2022-01-30T22:29:53.255537Z"
    }
   },
   "outputs": [
    {
     "name": "stdout",
     "output_type": "stream",
     "text": [
      "(1000, 1)\n"
     ]
    }
   ],
   "source": [
    "noise = np.random.uniform(-1, 1, (observations, 1))\n",
    "\n",
    "targets = 2*xs - 3*zs + 5 + noise\n",
    "\n",
    "print(targets.shape)"
   ]
  },
  {
   "cell_type": "markdown",
   "id": "b9fe0b66",
   "metadata": {},
   "source": [
    "## Initialize variables"
   ]
  },
  {
   "cell_type": "code",
   "execution_count": 7,
   "id": "1bd847f0",
   "metadata": {
    "ExecuteTime": {
     "end_time": "2022-01-30T22:42:16.409134Z",
     "start_time": "2022-01-30T22:42:16.404407Z"
    }
   },
   "outputs": [
    {
     "name": "stdout",
     "output_type": "stream",
     "text": [
      "[[ 0.09145812]\n",
      " [-0.07350794]]\n",
      "[0.09677107]\n"
     ]
    }
   ],
   "source": [
    "init_range = 0.1\n",
    "weights = np.random.uniform(-init_range, init_range, size=(2,1))\n",
    "biases = np.random.uniform(-init_range, init_range, size=1)\n",
    "print(weights)\n",
    "print(biases)"
   ]
  },
  {
   "cell_type": "markdown",
   "id": "a2262e9a",
   "metadata": {},
   "source": [
    "## Set a learning rate"
   ]
  },
  {
   "cell_type": "code",
   "execution_count": 9,
   "id": "a112be3c",
   "metadata": {
    "ExecuteTime": {
     "end_time": "2022-01-30T22:48:53.662817Z",
     "start_time": "2022-01-30T22:48:53.660268Z"
    }
   },
   "outputs": [],
   "source": [
    "learning_rate = 0.02"
   ]
  },
  {
   "cell_type": "markdown",
   "id": "6d4dfec5",
   "metadata": {},
   "source": [
    "## Train the model"
   ]
  },
  {
   "cell_type": "code",
   "execution_count": 12,
   "id": "a997c488",
   "metadata": {
    "ExecuteTime": {
     "end_time": "2022-01-30T22:51:54.343392Z",
     "start_time": "2022-01-30T22:51:54.325459Z"
    }
   },
   "outputs": [
    {
     "name": "stdout",
     "output_type": "stream",
     "text": [
      "0.37459234930237606\n",
      "0.3661698467061218\n",
      "0.35808069316282704\n",
      "0.3503116952552325\n",
      "0.3428501817402332\n",
      "0.33568398288206447\n",
      "0.3288014106034522\n",
      "0.3221912394223499\n",
      "0.3158426881431635\n",
      "0.3097454022726117\n",
      "0.30388943713153976\n",
      "0.2982652416351342\n",
      "0.29286364271509674\n",
      "0.2876758303583623\n",
      "0.2826933432379553\n",
      "0.2779080549125604\n",
      "0.2733121605722877\n",
      "0.2688981643090206\n",
      "0.2646588668905807\n",
      "0.26058735401877586\n",
      "0.25667698505217285\n",
      "0.25292138217520144\n",
      "0.24931441999593465\n",
      "0.24585021555556785\n",
      "0.24252311873330545\n",
      "0.23932770303101047\n",
      "0.23625875672258\n",
      "0.23331127435361482\n",
      "0.23048044857751843\n",
      "0.22776166231471023\n",
      "0.2251504812221647\n",
      "0.2226426464609922\n",
      "0.22023406775027024\n",
      "0.21792081669579086\n",
      "0.21569912038284483\n",
      "0.21356535522259606\n",
      "0.21151604104200286\n",
      "0.20954783540765354\n",
      "0.20765752817425348\n",
      "0.20584203624887554\n",
      "0.20409839856243228\n",
      "0.20242377124016928\n",
      "0.20081542296330396\n",
      "0.19927073051423952\n",
      "0.19778717449809682\n",
      "0.1963623352335775\n",
      "0.19499388880646254\n",
      "0.19367960327930453\n",
      "0.19241733505113665\n",
      "0.19120502536125736\n",
      "0.1900406969313891\n",
      "0.1889224507407359\n",
      "0.18784846292867843\n",
      "0.1868169818200559\n",
      "0.18582632506818184\n",
      "0.1848748769109351\n",
      "0.18396108553545057\n",
      "0.18308346054711036\n",
      "0.18224057053870898\n",
      "0.18143104075582683\n",
      "0.18065355085460502\n",
      "0.17990683274826189\n",
      "0.17918966853884336\n",
      "0.1785008885308298\n",
      "0.1778393693233615\n",
      "0.17720403197797077\n",
      "0.17659384025883257\n",
      "0.17600779894266227\n",
      "0.17544495219550602\n",
      "0.1749043820137746\n",
      "0.1743852067269782\n",
      "0.17388657955972184\n",
      "0.1734076872506129\n",
      "0.1729477487258321\n",
      "0.1725060138252\n",
      "0.17208176207866643\n",
      "0.17167430153122193\n",
      "0.17128296761431952\n",
      "0.1709071220619619\n",
      "0.17054615186968936\n",
      "0.170199468294769\n",
      "0.16986650589595453\n",
      "0.16954672161125134\n",
      "0.16923959387218174\n",
      "0.1689446217531057\n",
      "0.16866132415421187\n",
      "0.16838923901684197\n",
      "0.16812792256987383\n",
      "0.16787694860592933\n",
      "0.1676359077862307\n",
      "0.16740440697296738\n",
      "0.167182068588089\n",
      "0.16696852999747483\n",
      "0.1667634429194767\n",
      "0.16656647285687204\n",
      "0.1663772985512979\n",
      "0.16619561145927908\n",
      "0.16602111524899255\n",
      "0.16585352531695036\n",
      "0.16569256832381116\n"
     ]
    }
   ],
   "source": [
    "for i in range(100):\n",
    "    outputs = np.dot(inputs, weights) + biases\n",
    "    deltas = outputs - targets\n",
    "   \n",
    "    loss = np.sum(deltas**2)/2/observations\n",
    "    \n",
    "    print(loss)\n",
    "    \n",
    "    deltas_scaled = deltas/observations\n",
    "    \n",
    "    weights = weights - learning_rate * np.dot(inputs.T, deltas_scaled)\n",
    "    biases = biases - learning_rate * np.sum(deltas_scaled)"
   ]
  },
  {
   "cell_type": "markdown",
   "id": "d87fc57f",
   "metadata": {},
   "source": [
    "## Print weights and biases and see if we have worked correctly"
   ]
  },
  {
   "cell_type": "code",
   "execution_count": 13,
   "id": "58c5ae5a",
   "metadata": {
    "ExecuteTime": {
     "end_time": "2022-01-30T22:52:01.632825Z",
     "start_time": "2022-01-30T22:52:01.629774Z"
    }
   },
   "outputs": [
    {
     "name": "stdout",
     "output_type": "stream",
     "text": [
      "[[ 2.00013801]\n",
      " [-2.99759721]] [4.92401653]\n"
     ]
    }
   ],
   "source": [
    "print(weights, biases)"
   ]
  },
  {
   "cell_type": "markdown",
   "id": "bcc6defc",
   "metadata": {},
   "source": [
    "## Plot last outputs vs targets"
   ]
  },
  {
   "cell_type": "code",
   "execution_count": 15,
   "id": "e83604a6",
   "metadata": {
    "ExecuteTime": {
     "end_time": "2022-01-30T22:53:25.510636Z",
     "start_time": "2022-01-30T22:53:25.399517Z"
    }
   },
   "outputs": [
    {
     "data": {
      "image/png": "[encoded data removed]",
      "text/plain": [
       "<Figure size 432x288 with 1 Axes>"
      ]
     },
     "metadata": {
      "needs_background": "light"
     },
     "output_type": "display_data"
    }
   ],
   "source": [
    "plt.plot(outputs, targets)\n",
    "plt.xlabel('outputs')\n",
    "plt.ylabel('targets')\n",
    "plt.show()"
   ]
  }
 ],
 "metadata": {
  "kernelspec": {
   "display_name": "Python 3 (ipykernel)",
   "language": "python",
   "name": "python3"
  },
  "language_info": {
   "codemirror_mode": {
    "name": "ipython",
    "version": 3
   },
   "file_extension": ".py",
   "mimetype": "text/x-python",
   "name": "python",
   "nbconvert_exporter": "python",
   "pygments_lexer": "ipython3",
   "version": "3.9.7"
  }
 },
 "nbformat": 4,
 "nbformat_minor": 5
}
